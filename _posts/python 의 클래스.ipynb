{
 "cells": [
  {
   "cell_type": "markdown",
   "metadata": {},
   "source": [
    "# 파이썬의 클래스와 객체\n",
    "\n",
    "이번 포스팅에서는 파이썬의 클래스와 객체에 대해서 설명하려고 합니다. \n",
    "파이썬은 소프트웨어를 객체로 구성하여 사용하는 객체 지향 프로그래밍 입니다. 객체 지향이라는 것은 우리의 실제 세계가 사람, 여러 사물 등과 같은 객체로 구성되어 있는 것처럼 소프트웨어를 객체로 구성하는 방법입니다. 예를 들면, 사람이 리모컨을 이용하여 TV를 조작하는 상황을 생각해 볼 수 있습니다. TV와 리모컨은 모두 특정한 기능을 수행하는 객체이고, 두 객체는 전파와 같은 메세지를 통해 상호작용을 합니다. 파이썬도 마찬가지로 여러 객체들을 구성하고 이러한 객체들을 조합하여 상호작용하게 만듦으로써 사용자가 원하는 여러 기능들을 구현할 수 있습니다.\n",
    "\n",
    "## 객체란?\n",
    "\n",
    "파이썬에서 객체(object)는 상태와 동작을 가지고 있습니다. 객체의 상태(state)는 객체의 속성입니다. 다시 현실의 TV을 예로 들자면, TV라는 객체가 존재할 때, 채널, 볼륨, 전원상태 등이 객체의 상태이며 객체의 동작은 채널 변경, 볼륨 변경 등 의 행위가 해당됩니다.\n",
    "\n",
    "다시 파이썬 안에서는 객체의 상태와 동작을 각각 인스턴스 변수와 메소드로 표현할 수 있습니다. 객체 안의 변수를 인스턴스 변수라고 하고 객체의 동작을 나타내는 부분을 메소드 라고 부릅니다. 다시 말하면, 객체는 인스턴스 변수와 메소드로 이루어져 있는 소프트웨어의 묶음 정도로 표현할 수 있겠습니다. \n",
    "\n",
    "## 클래스란?\n",
    "\n",
    "파이썬이 여러 객체로 구성되는 형태라는 것은 위에서 언급을 했습니다. 그렇다면 동일한 종류의 객체가 하나만 있을까 한다면 당연히 아니겠죠. TV가 한대만 있는 것이 아니라 집집마다 있을 수 있듯이요. 현실에서 TV가 어떻게 만들어지는지 생각해보면 엔지니어가 설계도를 작성하고, 설계도에 의해 여러대의 TV를 만들게 되는데 파이썬에서도 똑같습니다. 객체를 만들어내는 설계도를 클래스라고 합니다. 또한 클래스로부터 만들어지는 각각의 객체들을 해당 클래스의 인스턴스라고 합니다. 이렇게 클래스를 만들어 두고 객체를 생성하는 이유는 간단합니다. 편리함  때문입니다. 미사일 게임을 만든다고 가정하면 많은 비행기와 미사일을 찍어내야 하는데 이럴 때 클래스를 만들어서 필요할 때마다 객체를 찍어내는 것이 아주 편리합니다. 또한 이렇게 만들어진 객체들은 관리하기에도 용이하기 때문입니다.\n",
    "\n",
    "파이썬에서는 모든 것이 객체로 구현이 되며, 기본적으로 유용한 클래스들을 제공하고 있습니다. 아래 예시를 통해서 살펴보도록 하겠습니다."
   ]
  },
  {
   "cell_type": "markdown",
   "metadata": {},
   "source": [
    "정수와 문자열 그리고 리스트까지 모든 것이 객체라고 할 수 있습니다. 이런 객체의 특징은 메소드를 가지고 있다는 점인데요, 리스트는 insert(), remove() 와 같은 메소드, 문자열은 upper() 와 같은 메소드를 갖고 있습니다. "
   ]
  },
  {
   "cell_type": "code",
   "execution_count": 2,
   "metadata": {},
   "outputs": [
    {
     "data": {
      "text/plain": [
       "'EVERYTHING IN PYTHON IS AN OBJECT'"
      ]
     },
     "execution_count": 2,
     "metadata": {},
     "output_type": "execute_result"
    }
   ],
   "source": [
    "\"Everything in python is an object\".upper()"
   ]
  },
  {
   "cell_type": "markdown",
   "metadata": {},
   "source": [
    "Everything in python is an object은 문자열 객체로 취급되고, 따라서 모든 문자를 대문자로 변경하는 .upper()와 같은 메소드를 사용할 수 있습니다. 정수 객체가 가지고 있는 메소드도 당연히 존재하는데요. 정수 객체가 기본적으로 갖고 있는 메소드인 __add__()를 호줄해 보겠습니다."
   ]
  },
  {
   "cell_type": "code",
   "execution_count": 3,
   "metadata": {},
   "outputs": [
    {
     "data": {
      "text/plain": [
       "3"
      ]
     },
     "execution_count": 3,
     "metadata": {},
     "output_type": "execute_result"
    }
   ],
   "source": [
    "(1).__add__(2)"
   ]
  },
  {
   "cell_type": "markdown",
   "metadata": {},
   "source": [
    "# 클래스 생성\n",
    "\n",
    "객체와 클래스에 대해서 간단하게 살펴보았습니다. 이번에는 직접 클래스를 생성하여 사용해보겠습니다. \n",
    "클래스는 객체의 형태를 정의하는 틀과 같은 것 입니다. 클래스 안에는 인스턴스 변수(객체 안에서 정의된 변수)와 메소드(클래스 안에서 정의된 함수)를 정의합니다. 인스턴스 변수와 메소드를 클래스의 멤버라고 합니다. 변수는 객체의 상태를 나타내고 메소드는 객체의 동작을 나타냅니다. 인스턴스 변수를 생성하기 위해서는 메소드 안에서 self.를 붙인 변수에 값을 대입하면 됩니다.\n",
    "\n",
    "클래스의 첫 번째 예시로 숫자를 세는 Counter 클래스를 생성해보겠습니다.\n",
    "Counter 클래스를 생성하기 위해서는 값을 저장하는 변수를 담고 있어야 합니다. 이 변수를 인스턴스 변수라고 부릅니다. 변수를 따로 정의하는 것이 아니라 메소드 안에서 변수 이름 앞에 self.을 붙이고 값을 저장하면 인스턴스 변수가 됩니다. 이제 아래의 과정을 통해 여러 메소드를 포함하는 Counter라는 클래스를 만들겠습니다.\n",
    "\n",
    "- Counter class 선언\n",
    "- 숫자를 초기화 하는 reset() 메소드 정의 \n",
    "- 값이 한 단위 씩 증가하는 increment() 메소드 정의\n",
    "- 현재 값을 반환하는 get() 메소드 정의"
   ]
  },
  {
   "cell_type": "code",
   "execution_count": 4,
   "metadata": {},
   "outputs": [],
   "source": [
    "# 숫자를 세는 Counter 클래스 작성\n",
    "\n",
    "class Counter:\n",
    "    # 메소드를 정의하고 인스턴스 변수를 생성하는 부분입니다.\n",
    "    def reset(self):\n",
    "        self.count = 0\n",
    "        \n",
    "    def increment(self):\n",
    "        self.count += 1\n",
    "    def get(self):\n",
    "        return self.count"
   ]
  },
  {
   "cell_type": "markdown",
   "metadata": {},
   "source": [
    "위와 같이 Counter 클래스를 생성했고 이제 사용해보겠습니다.\n",
    "\n",
    "a에 Counter() 호출을 함으로써 객체 생성! 그리고 참조값을 변수 a에 저장합니다."
   ]
  },
  {
   "cell_type": "code",
   "execution_count": 11,
   "metadata": {},
   "outputs": [],
   "source": [
    "a = Counter()"
   ]
  },
  {
   "cell_type": "markdown",
   "metadata": {},
   "source": [
    "reset 메소드를 입력하면 인스턴스 변수 count가 생성되고 0으로 초기화 됩니다.값이 0인 인스턴스 (count 변수를 생성한다고 생각해도 됩니다.)"
   ]
  },
  {
   "cell_type": "code",
   "execution_count": 13,
   "metadata": {},
   "outputs": [],
   "source": [
    "a.reset()"
   ]
  },
  {
   "cell_type": "markdown",
   "metadata": {},
   "source": [
    "increment 메소드는 count 값을 1씩 증가시킵니다."
   ]
  },
  {
   "cell_type": "code",
   "execution_count": 14,
   "metadata": {},
   "outputs": [],
   "source": [
    "a.increment()"
   ]
  },
  {
   "cell_type": "markdown",
   "metadata": {},
   "source": [
    "따라서 초기값 0에 1이 더해진 1이 출력됩니다."
   ]
  },
  {
   "cell_type": "code",
   "execution_count": 15,
   "metadata": {},
   "outputs": [
    {
     "name": "stdout",
     "output_type": "stream",
     "text": [
      "Counter a의 값은 1 입니다\n"
     ]
    }
   ],
   "source": [
    "print(\"Counter a의 값은 %s 입니다\" % a.get())"
   ]
  },
  {
   "cell_type": "markdown",
   "metadata": {},
   "source": [
    "객체는 원하는 만큼 여러 개를 생성할 수 있습니다. 이번엔 객체 2개를 생성해보겠습니다. 클래스로 생성된 각각의 객체는 별도의 인스턴스 변수를 가집니다. 위에서 객체 a에 a만의 counter 인스턴스 변수가 있듯이 다른 객체 b에 counter를 선언하면 b만의 counter 인스턴스 변수가 존재한다고 생각하면 되겠습니다."
   ]
  },
  {
   "cell_type": "code",
   "execution_count": 19,
   "metadata": {},
   "outputs": [
    {
     "name": "stdout",
     "output_type": "stream",
     "text": [
      "0 1\n"
     ]
    }
   ],
   "source": [
    "a ,b =  Counter(), Counter()\n",
    "\n",
    "a.reset()\n",
    "\n",
    "b.reset()\n",
    "b.increment()\n",
    "\n",
    "print(a.get(), b.get())"
   ]
  },
  {
   "cell_type": "markdown",
   "metadata": {},
   "source": [
    "## 생성자 메소드\n",
    "\n",
    "위에서 만들어진 Counter 변수에는 치명적인? 문제가 있습니다. Counter 클래스로 객체를 생성한 후에 보시는 것처럼 항상 reset 매소드를 불러와야만 인스턴스 변수가 생성된다는 점입니다. 객체를 생성하면서부터 초기화 메소드가 자동적으로 호출되면 훨씬 편리할텐데요, 생성자 메소드를 통해서 해결할 수 있습니다. \n",
    "\n",
    "객체를 생성할 때 클래스 이름과 동일한 메소드를 호출하는데 요게 바로 생성자 입니다 \n",
    "a = Counter() \n",
    "파이썬에서는 생성자의 이름으로 __init__()을 사용합니다. __init__()라는 이름은 초기화 한다는 의미입니다. 위에서 만들었던 Counter 클래스를 조금 손봐서 생성자를 추가해보겠습니다."
   ]
  },
  {
   "cell_type": "code",
   "execution_count": 20,
   "metadata": {},
   "outputs": [],
   "source": [
    "class Counter:\n",
    "    # __init__ 메소드가 생성자이며, 객체의 초기화를 담당합니다.\n",
    "    def __init__(self):\n",
    "        self.count = 0\n",
    "        \n",
    "    def reset(self):\n",
    "        self.count = 0     \n",
    "    def increment(self):\n",
    "        self.count += 1\n",
    "    def get(self):\n",
    "        return self.count"
   ]
  },
  {
   "cell_type": "markdown",
   "metadata": {},
   "source": [
    "생성자의 첫 번째 매개변수는 self 이어야만 합니다. self는 초기화되고 있는 객체를 가리킵니다. 변수를 초기화하면, 동시에 변수가 생성된다는 점에 유의하시면 좋을 것 같습니다. 기본적으로 파이썬에서는 클래스 당 하나의 생성자만 받습니다. 여러개의 생성자가 필요한 경우에는 초기에 기본값을 지정해줌으로써 문제를 어느정도 해결할 수 있습니다. "
   ]
  },
  {
   "cell_type": "code",
   "execution_count": 21,
   "metadata": {},
   "outputs": [],
   "source": [
    "class Counter:\n",
    "    def __init__(self, initvalue = 0):\n",
    "        self.count = initvalue"
   ]
  },
  {
   "cell_type": "code",
   "execution_count": 30,
   "metadata": {
    "scrolled": true
   },
   "outputs": [
    {
     "name": "stdout",
     "output_type": "stream",
     "text": [
      "초기값을 지정한 경우 : 100, 초기값을 지정하지 않은 경우: 0\n"
     ]
    }
   ],
   "source": [
    "a = Counter(100)\n",
    "b = Counter()\n",
    "\n",
    "print(\"초기값을 지정한 경우 : %s, 초기값을 지정하지 않은 경우: %s\" %(a.count, b.count))"
   ]
  },
  {
   "cell_type": "markdown",
   "metadata": {},
   "source": [
    "initvalue = 0 을 추가하여 사용자가 특별히 초기값을 지정하지 않는다면 0, 초기값을 지정했을 때는 지정한 값이 출력된 것을 확인할 수 있습니다.\n",
    "\n",
    "## 메소드 정의\n",
    "\n",
    "이번엔 클래스 내에서 메소드를 어떻게 구현하는지 자세하게 살펴보겠습니다. 위에서 언급했듯이 메소드는 클래스 안에서 정의된 함수이며, 첫 번째 매개변수로 항상 self를 받습니다. 예제로 채널, 볼륨, 전원상태 메소드가 존재하는 TV클래스를 정의해보겠습니다. "
   ]
  },
  {
   "cell_type": "code",
   "execution_count": 31,
   "metadata": {},
   "outputs": [],
   "source": [
    "class TV:\n",
    "    def __init__(self, channel, volume, on):\n",
    "        \n",
    "        # 인스턴스를 정의하는 부분입니다.\n",
    "        self.channel = channel\n",
    "        self.volume = volume\n",
    "        self.on = on\n",
    "    \n",
    "    def show(self):\n",
    "        print(self.channel, self.volume, self.on)\n",
    "        \n",
    "    def setChannel(self, channel):\n",
    "        self.channel = channel\n",
    "        \n",
    "    def getChannel(self):\n",
    "        return self.channel"
   ]
  },
  {
   "cell_type": "markdown",
   "metadata": {},
   "source": [
    "이렇게 생성한 TV 클래스에는 3개의 인스턴스 변수와 3개의 메소드로 구성되어 있습니다. \n",
    "\n",
    "### 인스턴스 변수\n",
    "- channel : 현재 채널 저장\n",
    "- volume : 현재 볼륨 저장\n",
    "- on : TV의 상태 출력\n",
    "\n",
    "### 메소드\n",
    "- show() : 현재 TV의 상태 출력\n",
    "- setChannel() : TV의 채널 변경\n",
    "- getChannel() : TV의 채널 출력\n",
    "\n",
    "이렇게 TV의 설계도, 틀을 만들었고 이 틀을 가지고 객체를 생성해보겠습니다."
   ]
  },
  {
   "cell_type": "code",
   "execution_count": 35,
   "metadata": {},
   "outputs": [
    {
     "name": "stdout",
     "output_type": "stream",
     "text": [
      "9 10 True\n"
     ]
    }
   ],
   "source": [
    "t = TV(9, 10, True)\n",
    "t.show()"
   ]
  },
  {
   "cell_type": "markdown",
   "metadata": {},
   "source": [
    "channel = 9, volume = 10 인 켜져있는 상태의 TV를 만들었는데요, setChannel() 메소드를 이용해서 채널을 변경해보겠습니다."
   ]
  },
  {
   "cell_type": "code",
   "execution_count": 39,
   "metadata": {},
   "outputs": [
    {
     "name": "stdout",
     "output_type": "stream",
     "text": [
      "11 10 True\n",
      "현재 채널은 11 번 입니다\n"
     ]
    }
   ],
   "source": [
    "t.setChannel(11)\n",
    "t.show()\n",
    "print('현재 채널은 %s 번 입니다' %t.getChannel())"
   ]
  },
  {
   "cell_type": "markdown",
   "metadata": {},
   "source": [
    "이렇게 파이썬에서 TV 설계도를 만들고 객체에 지정해서 TV를 찍어내는 것까지 찬찬히 살펴봤습니다. 이것으로 파이썬의 객체와 클래스에 대한 포스팅을 마무리해볼까 합니다. R 이나 python 과 같은 언어만 다루다보니 '객체 지향' 이라는 표현이 마치 '앉아서 공부하는 법!' 이라는 어색함으로 느껴지는것 같습니다.. \n",
    "\n",
    "이후에 몇가지 예제와 객체를 함수로 전달할때 어떻게 사용하는지, 클래스는 어떻게 상속하고 사용하는지에 대해서도 다뤄보도록 하겠습니다.\n",
    "\n",
    "감사합니다."
   ]
  }
 ],
 "metadata": {
  "kernelspec": {
   "display_name": "Python 3",
   "language": "python",
   "name": "python3"
  },
  "language_info": {
   "codemirror_mode": {
    "name": "ipython",
    "version": 3
   },
   "file_extension": ".py",
   "mimetype": "text/x-python",
   "name": "python",
   "nbconvert_exporter": "python",
   "pygments_lexer": "ipython3",
   "version": "3.8.5"
  }
 },
 "nbformat": 4,
 "nbformat_minor": 4
}
